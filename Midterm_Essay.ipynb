{
 "cells": [
  {
   "cell_type": "markdown",
   "metadata": {},
   "source": [
    "# Literacies: Past, Present, Future\n",
    "\n",
    "### Ameet Rahane "
   ]
  },
  {
   "cell_type": "markdown",
   "metadata": {},
   "source": [
    "```{html}\n",
    "<html>\n",
    "    <head> Hello World!\n",
    "    </head>\n",
    "    \n",
    "    <body> Hello World!\n",
    "    </body> \n",
    "</html>\n",
    "```"
   ]
  },
  {
   "cell_type": "markdown",
   "metadata": {},
   "source": [
    "```{python}\n",
    "def hello_world(): \n",
    "    print(\"hello world\")\n",
    "```"
   ]
  },
  {
   "cell_type": "markdown",
   "metadata": {},
   "source": [
    "```{c}\n",
    "int main()\n",
    "{\n",
    "   printf(\"Hello, World!\");\n",
    "   return 0;\n",
    "}\n",
    "```"
   ]
  },
  {
   "cell_type": "markdown",
   "metadata": {},
   "source": [
    "Every computer scientist starts their journey through programming in a similar fashion, by creating one of the programs above. This is what's called a \"Hello World\" program. I always thought this idea was fascinating. Is the language saying \"hello\" to the developer for the first time or was this the first time the developer was able to express themselves through the given language? I hold the second to be more true to me. As I've grown as a developer and a scientist, I've quickly realized that programming isn't something to be scared of. It's not something that is overly technical and only for the technical geniuses of the world. Rather, it's a powerful expression of creative literacy. Programming gives the average person the ability to build the tools of the future and the tools of the present, but that's not the true power of learning how to program. Programming teaches you how to reframe analytical problem as simpler more creative problems. It's not a skill exclusive to the keyboard, but a skill that is useful in everyone's general "
   ]
  },
  {
   "cell_type": "code",
   "execution_count": null,
   "metadata": {},
   "outputs": [],
   "source": []
  }
 ],
 "metadata": {
  "kernelspec": {
   "display_name": "Python 3",
   "language": "python",
   "name": "python3"
  },
  "language_info": {
   "codemirror_mode": {
    "name": "ipython",
    "version": 3
   },
   "file_extension": ".py",
   "mimetype": "text/x-python",
   "name": "python",
   "nbconvert_exporter": "python",
   "pygments_lexer": "ipython3",
   "version": "3.6.4"
  }
 },
 "nbformat": 4,
 "nbformat_minor": 2
}
