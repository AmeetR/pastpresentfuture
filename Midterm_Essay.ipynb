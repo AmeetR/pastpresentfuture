{
 "cells": [
  {
   "cell_type": "markdown",
   "metadata": {},
   "source": [
    "# Literacies: Past, Present, Future\n",
    "\n",
    "### Ameet Rahane "
   ]
  },
  {
   "cell_type": "markdown",
   "metadata": {},
   "source": [
    "<br>\n",
    "## Past"
   ]
  },
  {
   "cell_type": "markdown",
   "metadata": {},
   "source": [
    "```\n",
    "def hello_world(): \n",
    "    print(\"hello world\")\n",
    "```"
   ]
  },
  {
   "cell_type": "markdown",
   "metadata": {},
   "source": [
    "```\n",
    "int main()\n",
    "{\n",
    "   printf(\"Hello, World!\");\n",
    "   return 0;\n",
    "}\n",
    "```"
   ]
  },
  {
   "cell_type": "markdown",
   "metadata": {},
   "source": [
    "Every computer scientist starts their journey through programming in a similar fashion, by creating one of the programs above. This is what's called a \"Hello World\" program. I always thought this idea was fascinating. Is the language saying \"hello\" to the developer for the first time or was this the first time the developer was able to express themselves through the given language? I hold the second to be more true to me. As I've grown as a developer and a scientist, I've quickly realized that programming isn't something to be scared of. It's not something that is overly technical and only for the technical geniuses of the world. Rather, it's a powerful expression of creative literacy. Programming gives the average person the ability to build the tools of the future and the tools of the present, but that's not the true power of learning how to program. Programming teaches you how to reframe analytical problem as simpler more creative problems. It's not a skill exclusive to the keyboard, but a skill that allows one to see the world in a different light. \n",
    "\n",
    "My life in the programming journey began in this same way. Ten years ago, my dad sat me in front of the QAD inc. (this is where he worked) corporate tutorials page. In front of me, I saw a tutorial explaining the basics of HTML, CSS, JS and the fundamentals of web development. Within the first lesson, I had created my first \"Hello World\" page, which I didn't quite excite me at the time. For example, here is what I would have been looking at. "
   ]
  },
  {
   "cell_type": "markdown",
   "metadata": {},
   "source": [
    "```\n",
    "<html>\n",
    "    <head> Hello World!\n",
    "    </head>\n",
    "    \n",
    "    <body> Hello World!\n",
    "    </body> \n",
    "</html>\n",
    "```"
   ]
  },
  {
   "cell_type": "markdown",
   "metadata": {},
   "source": [
    "When I opened this website in the browser, here is what happened: \n",
    "<br> "
   ]
  },
  {
   "cell_type": "markdown",
   "metadata": {},
   "source": [
    "<html>\n",
    "    <head> Hello World!\n",
    "    </head>\n",
    "\n",
    "    <body> Hello World!\n",
    "    </body> \n",
    "</html>"
   ]
  },
  {
   "cell_type": "markdown",
   "metadata": {},
   "source": [
    "Understandably, at the time, I wasn't too intrigued by this, but it turned out that every \"Hello World\" page I would have made in my life set my through quite a distinct path in my education. Every time I wrote the words \"Hello World\", I would be opened to a new area of intrigue. A new way to express my creativity. A new path to learn. \n",
    "\n",
    "\n",
    "While I wasn't quite captivated by my first \"Hello World\" program, I did realize even then that this was the beginning of something new for me, so I sat there on my dad's computer for hours at a time. I learned how to style webpages. I learned the fundamentals of web design, but even beyond that, I learned that this was the beginning of something revolutionary for me. This was the beginning of a new way of thinking. \n",
    "\n",
    "\n",
    "The <i> Graffiti Manifesto </i> depicts graffiti as the \"voice of the voiceless\" and the glow of a person's humanity. At this point in my life, I set out to do something quite similar. I set out to express myself through these new tools I was given. I created a number of websites, nothing that was important to the general population, but something that described how I felt about life. This gave me a medium to allow my inner self to flourish. This is when I first saw the connection between code and myself. Through this experience, my viewpoint toward code and analytical thinking was thrown for the first time. I began to realize that code was really just a way to extrapolate one's creative literacy and show the world. In this way, code is no different from painting, drawing, or writing.  \n",
    "\n",
    "My second \"Hello World\" came a few years after, in my first computer science class at Berkeley. With this computer science class, came a language called Python, but more importantly, it once again revolutionalized my way of thinking about computers and life. After taking this class, the glass wall that surrounded the field of computer science was finally broken. I was now able to reframe problems totally unrelated to computer science and think about them in a totally new way. It gave me the power to think and analyze real questions about the world in ways that made sense to a scientist. In a way, it taught me the art of building questions that strive to answer much harder problems than they seem to solve. This lends itself well to my other primary fields of study: cognitive science and psychology. For example, social dynamics can be easily modeled with a graph and learning lends itself to a reinforcement learning algorithm. \n",
    "\n",
    "<i> Digital Remix: The Art and Craft of Endless Hybridization </i> by Colin Lankshear and Michele Knobel define this concept of a \"remix\" as \"the practice of taking cultural artefacts and combining and manipulating\n",
    "them into a new kind of creative blend\". In this way, it seems that this act of reframing a problem to fit within a context of a different field is almost exactly the art of remixing something. It is possible to remix two fields in order to solve problems in either field. Remixing, in this scenario, would be a powerful tool that would allow people with limited domain specific knowledge to assist in solving problems in a given domain. "
   ]
  },
  {
   "cell_type": "markdown",
   "metadata": {},
   "source": [
    "## Present"
   ]
  },
  {
   "cell_type": "markdown",
   "metadata": {},
   "source": [
    "```\n",
    "public class HelloWorld {\n",
    "\n",
    "    public static void main(String[] args) {\n",
    "        System.out.println(\"Hello, World\");\n",
    "    }\n",
    "\n",
    "}\n",
    "```"
   ]
  },
  {
   "cell_type": "markdown",
   "metadata": {},
   "source": [
    "My third and final \"Hello World\" has led me to where I am today. This happened last semester (Fall 2017), when I was introduced to data structures, algorithms, and Java. "
   ]
  },
  {
   "cell_type": "code",
   "execution_count": null,
   "metadata": {},
   "outputs": [],
   "source": []
  }
 ],
 "metadata": {
  "kernelspec": {
   "display_name": "Python 3",
   "language": "python",
   "name": "python3"
  },
  "language_info": {
   "codemirror_mode": {
    "name": "ipython",
    "version": 3
   },
   "file_extension": ".py",
   "mimetype": "text/x-python",
   "name": "python",
   "nbconvert_exporter": "python",
   "pygments_lexer": "ipython3",
   "version": "3.6.4"
  }
 },
 "nbformat": 4,
 "nbformat_minor": 2
}
